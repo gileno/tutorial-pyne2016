{
 "cells": [
  {
   "cell_type": "code",
   "execution_count": 4,
   "metadata": {
    "collapsed": false
   },
   "outputs": [],
   "source": [
    "%matplotlib inline"
   ]
  },
  {
   "cell_type": "code",
   "execution_count": 5,
   "metadata": {
    "collapsed": false
   },
   "outputs": [],
   "source": [
    "import pandas as pd\n",
    "import matplotlib.pyplot as pl\n",
    "from sklearn.neighbors import KNeighborsClassifier\n",
    "import numpy as np"
   ]
  },
  {
   "cell_type": "code",
   "execution_count": 6,
   "metadata": {
    "collapsed": false
   },
   "outputs": [
    {
     "name": "stdout",
     "output_type": "stream",
     "text": [
      "Neighbors: 1, Accuracy: 0.750055\n",
      "Neighbors: 3, Accuracy: 0.758689\n",
      "Neighbors: 5, Accuracy: 0.774186\n",
      "Neighbors: 7, Accuracy: 0.783042\n",
      "Neighbors: 9, Accuracy: 0.785477\n",
      "Neighbors: 11, Accuracy: 0.794997\n",
      "Neighbors: 13, Accuracy: 0.796325\n",
      "Neighbors: 15, Accuracy: 0.798539\n",
      "Neighbors: 17, Accuracy: 0.799867\n",
      "Neighbors: 19, Accuracy: 0.799203\n",
      "Neighbors: 21, Accuracy: 0.802524\n",
      "Neighbors: 23, Accuracy: 0.802302\n",
      "Neighbors: 25, Accuracy: 0.804295\n",
      "Neighbors: 27, Accuracy: 0.804074\n",
      "Neighbors: 29, Accuracy: 0.805402\n",
      "Neighbors: 31, Accuracy: 0.805623\n",
      "Neighbors: 33, Accuracy: 0.805623\n",
      "Neighbors: 35, Accuracy: 0.805402\n",
      "Neighbors: 37, Accuracy: 0.805402\n",
      "Neighbors: 39, Accuracy: 0.805402\n",
      "Neighbors: 41, Accuracy: 0.806066\n",
      "Neighbors: 43, Accuracy: 0.805845\n",
      "Neighbors: 45, Accuracy: 0.805845\n",
      "Neighbors: 47, Accuracy: 0.805845\n",
      "Neighbors: 49, Accuracy: 0.805845\n"
     ]
    },
    {
     "data": {
      "image/png": "[encoded data removed]",
      "text/plain": [
       "<matplotlib.figure.Figure at 0x11039a940>"
      ]
     },
     "metadata": {},
     "output_type": "display_data"
    }
   ],
   "source": [
    "df = pd.read_csv(\"https://s3.amazonaws.com/demo-datasets/wine.csv\")\n",
    " \n",
    "test_idx = np.random.uniform(0, 1, len(df)) <= 0.3\n",
    "train = df[test_idx==True]\n",
    "test = df[test_idx==False]\n",
    "\n",
    "features = ['density', 'sulphates', 'residual_sugar']\n",
    " \n",
    "results = []\n",
    "for n in range(1, 51, 2):\n",
    "    clf = KNeighborsClassifier(n_neighbors=n)\n",
    "    clf.fit(train[features], train['high_quality'])\n",
    "    preds = clf.predict(test[features])\n",
    "    accuracy = np.where(preds==test['high_quality'], 1, 0).sum() / float(len(test))\n",
    "    print(\"Neighbors: %d, Accuracy: %3f\" % (n, accuracy))\n",
    " \n",
    "    results.append([n, accuracy])\n",
    " \n",
    "results = pd.DataFrame(results, columns=[\"n\", \"accuracy\"])\n",
    " \n",
    "pl.plot(results.n, results.accuracy)\n",
    "pl.title(\"Accuracy with Increasing K\")\n",
    "pl.show()"
   ]
  },
  {
   "cell_type": "code",
   "execution_count": null,
   "metadata": {
    "collapsed": false
   },
   "outputs": [],
   "source": []
  }
 ],
 "metadata": {
  "kernelspec": {
   "display_name": "Python 3",
   "language": "python",
   "name": "python3"
  },
  "language_info": {
   "codemirror_mode": {
    "name": "ipython",
    "version": 3
   },
   "file_extension": ".py",
   "mimetype": "text/x-python",
   "name": "python",
   "nbconvert_exporter": "python",
   "pygments_lexer": "ipython3",
   "version": "3.5.1"
  }
 },
 "nbformat": 4,
 "nbformat_minor": 0
}
