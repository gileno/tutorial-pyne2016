{
 "metadata": {
  "name": "",
  "signature": "sha256:35f80446ddc56fd7223f6e9162547a7fc737041f2a2078e01e6eb54ef9f80223"
 },
 "nbformat": 3,
 "nbformat_minor": 0,
 "worksheets": [
  {
   "cells": [
    {
     "cell_type": "code",
     "collapsed": false,
     "input": [
      "%matplotlib inline"
     ],
     "language": "python",
     "metadata": {},
     "outputs": [],
     "prompt_number": 1
    },
    {
     "cell_type": "code",
     "collapsed": false,
     "input": [
      "import pandas as pd\n",
      "import pylab as pl\n",
      "from sklearn.neighbors import KNeighborsClassifier\n",
      "import numpy as np"
     ],
     "language": "python",
     "metadata": {},
     "outputs": [],
     "prompt_number": 2
    },
    {
     "cell_type": "code",
     "collapsed": false,
     "input": [
      "df = pd.read_csv(\"data/wine.csv\")\n",
      " \n",
      "test_idx = np.random.uniform(0, 1, len(df)) <= 0.3\n",
      "\n",
      "train = df[test_idx==True]\n",
      "test = df[test_idx==False]\n",
      " \n",
      "features = ['density', 'sulphates', 'residual_sugar']\n",
      " \n",
      "results = []\n",
      "for n in range(1, 51, 2):\n",
      "    clf = KNeighborsClassifier(n_neighbors=n)\n",
      "    clf.fit(train[features], train['high_quality'])\n",
      "    preds = clf.predict(test[features])\n",
      "    accuracy = np.where(preds==test['high_quality'], 1, 0).sum() / float(len(test))\n",
      "    print(\"Neighbors: %d, Accuracy: %3f\" % (n, accuracy))\n",
      " \n",
      "    results.append([n, accuracy])\n",
      " \n",
      "results = pd.DataFrame(results, columns=[\"n\", \"accuracy\"])\n",
      " \n",
      "pl.plot(results.n, results.accuracy)\n",
      "pl.title(\"Accuracy with Increasing K\")\n",
      "pl.show()"
     ],
     "language": "python",
     "metadata": {},
     "outputs": [
      {
       "output_type": "stream",
       "stream": "stdout",
       "text": [
        "Neighbors: 1, Accuracy: 0.756250\n",
        "Neighbors: 3, Accuracy: 0.763616\n",
        "Neighbors: 5, Accuracy: 0.786830\n",
        "Neighbors: 7, Accuracy: 0.787054\n",
        "Neighbors: 9, Accuracy: 0.783929"
       ]
      },
      {
       "output_type": "stream",
       "stream": "stdout",
       "text": [
        "\n",
        "Neighbors: 11, Accuracy: 0.789509\n",
        "Neighbors: 13, Accuracy: 0.791518\n",
        "Neighbors: 15, Accuracy: 0.789509"
       ]
      },
      {
       "output_type": "stream",
       "stream": "stdout",
       "text": [
        "\n",
        "Neighbors: 17, Accuracy: 0.795312\n",
        "Neighbors: 19, Accuracy: 0.795536"
       ]
      },
      {
       "output_type": "stream",
       "stream": "stdout",
       "text": [
        "\n",
        "Neighbors: 21, Accuracy: 0.798214\n",
        "Neighbors: 23, Accuracy: 0.798214"
       ]
      },
      {
       "output_type": "stream",
       "stream": "stdout",
       "text": [
        "\n",
        "Neighbors: 25, Accuracy: 0.799777\n",
        "Neighbors: 27, Accuracy: 0.801339"
       ]
      },
      {
       "output_type": "stream",
       "stream": "stdout",
       "text": [
        "\n",
        "Neighbors: 29, Accuracy: 0.803571\n",
        "Neighbors: 31, Accuracy: 0.803795"
       ]
      },
      {
       "output_type": "stream",
       "stream": "stdout",
       "text": [
        "\n",
        "Neighbors: 33, Accuracy: 0.804018\n",
        "Neighbors: 35, Accuracy: 0.803795"
       ]
      },
      {
       "output_type": "stream",
       "stream": "stdout",
       "text": [
        "\n",
        "Neighbors: 37, Accuracy: 0.804688"
       ]
      },
      {
       "output_type": "stream",
       "stream": "stdout",
       "text": [
        "\n",
        "Neighbors: 39, Accuracy: 0.804241"
       ]
      },
      {
       "output_type": "stream",
       "stream": "stdout",
       "text": [
        "\n",
        "Neighbors: 41, Accuracy: 0.804688"
       ]
      },
      {
       "output_type": "stream",
       "stream": "stdout",
       "text": [
        "\n",
        "Neighbors: 43, Accuracy: 0.804688"
       ]
      },
      {
       "output_type": "stream",
       "stream": "stdout",
       "text": [
        "\n",
        "Neighbors: 45, Accuracy: 0.804688"
       ]
      },
      {
       "output_type": "stream",
       "stream": "stdout",
       "text": [
        "\n",
        "Neighbors: 47, Accuracy: 0.804911\n",
        "Neighbors: 49, Accuracy: 0.805357"
       ]
      },
      {
       "output_type": "stream",
       "stream": "stdout",
       "text": [
        "\n"
       ]
      },
      {
       "metadata": {},
       "output_type": "display_data",
       "png": "[encoded data removed]",
       "text": [
        "<matplotlib.figure.Figure at 0x1096dc090>"
       ]
      }
     ],
     "prompt_number": 3
    },
    {
     "cell_type": "code",
     "collapsed": false,
     "input": [],
     "language": "python",
     "metadata": {},
     "outputs": [],
     "prompt_number": 10
    }
   ],
   "metadata": {}
  }
 ]
}